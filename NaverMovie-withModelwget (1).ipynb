{
 "cells": [
  {
   "cell_type": "code",
   "execution_count": 16,
   "metadata": {
    "scrolled": true
   },
   "outputs": [
    {
     "name": "stdout",
     "output_type": "stream",
     "text": [
      "/opt/conda/envs/Python-3.7-main/lib/python3.7/site-packages/secretstorage/dhcrypto.py:16: CryptographyDeprecationWarning: int_from_bytes is deprecated, use int.from_bytes instead\n",
      "  from cryptography.utils import int_from_bytes\n",
      "/opt/conda/envs/Python-3.7-main/lib/python3.7/site-packages/secretstorage/util.py:25: CryptographyDeprecationWarning: int_from_bytes is deprecated, use int.from_bytes instead\n",
      "  from cryptography.utils import int_from_bytes\n",
      "Requirement already satisfied: pip in /opt/conda/envs/Python-3.7-main/lib/python3.7/site-packages (21.1.1)\n",
      "/opt/conda/envs/Python-3.7-main/lib/python3.7/site-packages/secretstorage/dhcrypto.py:16: CryptographyDeprecationWarning: int_from_bytes is deprecated, use int.from_bytes instead\n",
      "  from cryptography.utils import int_from_bytes\n",
      "/opt/conda/envs/Python-3.7-main/lib/python3.7/site-packages/secretstorage/util.py:25: CryptographyDeprecationWarning: int_from_bytes is deprecated, use int.from_bytes instead\n",
      "  from cryptography.utils import int_from_bytes\n",
      "Requirement already satisfied: lxml in /opt/conda/envs/Python-3.7-main/lib/python3.7/site-packages (4.5.1)\n",
      "/opt/conda/envs/Python-3.7-main/lib/python3.7/site-packages/secretstorage/dhcrypto.py:16: CryptographyDeprecationWarning: int_from_bytes is deprecated, use int.from_bytes instead\n",
      "  from cryptography.utils import int_from_bytes\n",
      "/opt/conda/envs/Python-3.7-main/lib/python3.7/site-packages/secretstorage/util.py:25: CryptographyDeprecationWarning: int_from_bytes is deprecated, use int.from_bytes instead\n",
      "  from cryptography.utils import int_from_bytes\n",
      "Requirement already satisfied: utils in /opt/conda/envs/Python-3.7-main/lib/python3.7/site-packages (1.0.1)\n",
      "/opt/conda/envs/Python-3.7-main/lib/python3.7/site-packages/secretstorage/dhcrypto.py:16: CryptographyDeprecationWarning: int_from_bytes is deprecated, use int.from_bytes instead\n",
      "  from cryptography.utils import int_from_bytes\n",
      "/opt/conda/envs/Python-3.7-main/lib/python3.7/site-packages/secretstorage/util.py:25: CryptographyDeprecationWarning: int_from_bytes is deprecated, use int.from_bytes instead\n",
      "  from cryptography.utils import int_from_bytes\n",
      "Requirement already satisfied: paramiko in /opt/conda/envs/Python-3.7-main/lib/python3.7/site-packages (2.7.2)\n",
      "Requirement already satisfied: pynacl>=1.0.1 in /opt/conda/envs/Python-3.7-main/lib/python3.7/site-packages (from paramiko) (1.4.0)\n",
      "Requirement already satisfied: bcrypt>=3.1.3 in /opt/conda/envs/Python-3.7-main/lib/python3.7/site-packages (from paramiko) (3.2.0)\n",
      "Requirement already satisfied: cryptography>=2.5 in /opt/conda/envs/Python-3.7-main/lib/python3.7/site-packages (from paramiko) (3.4.7)\n",
      "Requirement already satisfied: six>=1.4.1 in /opt/conda/envs/Python-3.7-main/lib/python3.7/site-packages (from bcrypt>=3.1.3->paramiko) (1.15.0)\n",
      "Requirement already satisfied: cffi>=1.1 in /opt/conda/envs/Python-3.7-main/lib/python3.7/site-packages (from bcrypt>=3.1.3->paramiko) (1.14.0)\n",
      "Requirement already satisfied: pycparser in /opt/conda/envs/Python-3.7-main/lib/python3.7/site-packages (from cffi>=1.1->bcrypt>=3.1.3->paramiko) (2.20)\n",
      "/opt/conda/envs/Python-3.7-main/lib/python3.7/site-packages/secretstorage/dhcrypto.py:16: CryptographyDeprecationWarning: int_from_bytes is deprecated, use int.from_bytes instead\n",
      "  from cryptography.utils import int_from_bytes\n",
      "/opt/conda/envs/Python-3.7-main/lib/python3.7/site-packages/secretstorage/util.py:25: CryptographyDeprecationWarning: int_from_bytes is deprecated, use int.from_bytes instead\n",
      "  from cryptography.utils import int_from_bytes\n",
      "Requirement already satisfied: nltk in /opt/conda/envs/Python-3.7-main/lib/python3.7/site-packages (3.5)\n",
      "Requirement already satisfied: tqdm in /opt/conda/envs/Python-3.7-main/lib/python3.7/site-packages (from nltk) (4.47.0)\n",
      "Requirement already satisfied: click in /opt/conda/envs/Python-3.7-main/lib/python3.7/site-packages (from nltk) (7.1.2)\n",
      "Requirement already satisfied: joblib in /opt/conda/envs/Python-3.7-main/lib/python3.7/site-packages (from nltk) (0.16.0)\n",
      "Requirement already satisfied: regex in /opt/conda/envs/Python-3.7-main/lib/python3.7/site-packages (from nltk) (2020.6.8)\n"
     ]
    }
   ],
   "source": [
    "! pip install --upgrade pip\n",
    "! pip install lxml\n",
    "! pip install utils\n",
    "! pip install paramiko\n",
    "! pip install nltk"
   ]
  },
  {
   "cell_type": "code",
   "execution_count": 17,
   "metadata": {},
   "outputs": [
    {
     "name": "stdout",
     "output_type": "stream",
     "text": [
      "/opt/conda/envs/Python-3.7-main/lib/python3.7/site-packages/secretstorage/dhcrypto.py:16: CryptographyDeprecationWarning: int_from_bytes is deprecated, use int.from_bytes instead\n",
      "  from cryptography.utils import int_from_bytes\n",
      "/opt/conda/envs/Python-3.7-main/lib/python3.7/site-packages/secretstorage/util.py:25: CryptographyDeprecationWarning: int_from_bytes is deprecated, use int.from_bytes instead\n",
      "  from cryptography.utils import int_from_bytes\n",
      "Requirement already satisfied: konlpy in /opt/conda/envs/Python-3.7-main/lib/python3.7/site-packages (0.5.2)\n",
      "Requirement already satisfied: JPype1>=0.7.0 in /opt/conda/envs/Python-3.7-main/lib/python3.7/site-packages (from konlpy) (1.2.1)\n",
      "Requirement already satisfied: beautifulsoup4==4.6.0 in /opt/conda/envs/Python-3.7-main/lib/python3.7/site-packages (from konlpy) (4.6.0)\n",
      "Requirement already satisfied: colorama in /opt/conda/envs/Python-3.7-main/lib/python3.7/site-packages (from konlpy) (0.4.4)\n",
      "Requirement already satisfied: lxml>=4.1.0 in /opt/conda/envs/Python-3.7-main/lib/python3.7/site-packages (from konlpy) (4.5.1)\n",
      "Requirement already satisfied: tweepy>=3.7.0 in /opt/conda/envs/Python-3.7-main/lib/python3.7/site-packages (from konlpy) (3.10.0)\n",
      "Requirement already satisfied: numpy>=1.6 in /opt/conda/envs/Python-3.7-main/lib/python3.7/site-packages (from konlpy) (1.18.5)\n",
      "Requirement already satisfied: typing-extensions in /opt/conda/envs/Python-3.7-main/lib/python3.7/site-packages (from JPype1>=0.7.0->konlpy) (3.7.4.2)\n",
      "Requirement already satisfied: requests[socks]>=2.11.1 in /opt/conda/envs/Python-3.7-main/lib/python3.7/site-packages (from tweepy>=3.7.0->konlpy) (2.24.0)\n",
      "Requirement already satisfied: requests-oauthlib>=0.7.0 in /opt/conda/envs/Python-3.7-main/lib/python3.7/site-packages (from tweepy>=3.7.0->konlpy) (1.3.0)\n",
      "Requirement already satisfied: six>=1.10.0 in /opt/conda/envs/Python-3.7-main/lib/python3.7/site-packages (from tweepy>=3.7.0->konlpy) (1.15.0)\n",
      "Requirement already satisfied: oauthlib>=3.0.0 in /opt/conda/envs/Python-3.7-main/lib/python3.7/site-packages (from requests-oauthlib>=0.7.0->tweepy>=3.7.0->konlpy) (3.1.0)\n",
      "Requirement already satisfied: chardet<4,>=3.0.2 in /opt/conda/envs/Python-3.7-main/lib/python3.7/site-packages (from requests[socks]>=2.11.1->tweepy>=3.7.0->konlpy) (3.0.4)\n",
      "Requirement already satisfied: urllib3!=1.25.0,!=1.25.1,<1.26,>=1.21.1 in /opt/conda/envs/Python-3.7-main/lib/python3.7/site-packages (from requests[socks]>=2.11.1->tweepy>=3.7.0->konlpy) (1.25.9)\n",
      "Requirement already satisfied: idna<3,>=2.5 in /opt/conda/envs/Python-3.7-main/lib/python3.7/site-packages (from requests[socks]>=2.11.1->tweepy>=3.7.0->konlpy) (2.9)\n",
      "Requirement already satisfied: certifi>=2017.4.17 in /opt/conda/envs/Python-3.7-main/lib/python3.7/site-packages (from requests[socks]>=2.11.1->tweepy>=3.7.0->konlpy) (2020.12.5)\n",
      "Requirement already satisfied: PySocks!=1.5.7,>=1.5.6 in /opt/conda/envs/Python-3.7-main/lib/python3.7/site-packages (from requests[socks]>=2.11.1->tweepy>=3.7.0->konlpy) (1.7.1)\n",
      "/opt/conda/envs/Python-3.7-main/lib/python3.7/site-packages/secretstorage/dhcrypto.py:16: CryptographyDeprecationWarning: int_from_bytes is deprecated, use int.from_bytes instead\n",
      "  from cryptography.utils import int_from_bytes\n",
      "/opt/conda/envs/Python-3.7-main/lib/python3.7/site-packages/secretstorage/util.py:25: CryptographyDeprecationWarning: int_from_bytes is deprecated, use int.from_bytes instead\n",
      "  from cryptography.utils import int_from_bytes\n",
      "Requirement already satisfied: gensim in /opt/conda/envs/Python-3.7-main/lib/python3.7/site-packages (4.0.1)\n",
      "Requirement already satisfied: scipy>=0.18.1 in /opt/conda/envs/Python-3.7-main/lib/python3.7/site-packages (from gensim) (1.5.0)\n",
      "Requirement already satisfied: numpy>=1.11.3 in /opt/conda/envs/Python-3.7-main/lib/python3.7/site-packages (from gensim) (1.18.5)\n",
      "Requirement already satisfied: smart-open>=1.8.1 in /opt/conda/envs/Python-3.7-main/lib/python3.7/site-packages (from gensim) (5.0.0)\n"
     ]
    }
   ],
   "source": [
    "! pip  install konlpy\n",
    "! pip install gensim"
   ]
  },
  {
   "cell_type": "code",
   "execution_count": 18,
   "metadata": {},
   "outputs": [
    {
     "name": "stdout",
     "output_type": "stream",
     "text": [
      "--2021-05-04 06:42:05--  https://docs.google.com/uc?export=download&confirm=iDZq&id=1ud4DopDTWm0YBN_tpkvQ3Qax87UDgpcO\n",
      "Resolving docs.google.com (docs.google.com)... 142.250.68.174, 2607:f8b0:4000:811::200e\n",
      "Connecting to docs.google.com (docs.google.com)|142.250.68.174|:443... connected.\n",
      "HTTP request sent, awaiting response... 302 Moved Temporarily\n",
      "Location: https://doc-04-80-docs.googleusercontent.com/docs/securesc/ihbjqqqh84mpqnprufjb17jb1u5e34rl/snsdogvf5cqjtp5ieu33iksn0t9im80e/1620110475000/04591858293269658552/13164979803223182700Z/1ud4DopDTWm0YBN_tpkvQ3Qax87UDgpcO?e=download [following]\n",
      "--2021-05-04 06:42:06--  https://doc-04-80-docs.googleusercontent.com/docs/securesc/ihbjqqqh84mpqnprufjb17jb1u5e34rl/snsdogvf5cqjtp5ieu33iksn0t9im80e/1620110475000/04591858293269658552/13164979803223182700Z/1ud4DopDTWm0YBN_tpkvQ3Qax87UDgpcO?e=download\n",
      "Resolving doc-04-80-docs.googleusercontent.com (doc-04-80-docs.googleusercontent.com)... 142.250.68.161, 2607:f8b0:4023:1006::84\n",
      "Connecting to doc-04-80-docs.googleusercontent.com (doc-04-80-docs.googleusercontent.com)|142.250.68.161|:443... connected.\n",
      "HTTP request sent, awaiting response... 302 Found\n",
      "Location: https://docs.google.com/nonceSigner?nonce=o6p3bt0fpedu8&continue=https://doc-04-80-docs.googleusercontent.com/docs/securesc/ihbjqqqh84mpqnprufjb17jb1u5e34rl/snsdogvf5cqjtp5ieu33iksn0t9im80e/1620110475000/04591858293269658552/13164979803223182700Z/1ud4DopDTWm0YBN_tpkvQ3Qax87UDgpcO?e%3Ddownload&hash=2cmri08u295b6bn3qe281664vkk6l3no [following]\n",
      "--2021-05-04 06:42:06--  https://docs.google.com/nonceSigner?nonce=o6p3bt0fpedu8&continue=https://doc-04-80-docs.googleusercontent.com/docs/securesc/ihbjqqqh84mpqnprufjb17jb1u5e34rl/snsdogvf5cqjtp5ieu33iksn0t9im80e/1620110475000/04591858293269658552/13164979803223182700Z/1ud4DopDTWm0YBN_tpkvQ3Qax87UDgpcO?e%3Ddownload&hash=2cmri08u295b6bn3qe281664vkk6l3no\n",
      "Connecting to docs.google.com (docs.google.com)|142.250.68.174|:443... connected.\n",
      "HTTP request sent, awaiting response... 302 Found\n",
      "Location: https://doc-04-80-docs.googleusercontent.com/docs/securesc/ihbjqqqh84mpqnprufjb17jb1u5e34rl/snsdogvf5cqjtp5ieu33iksn0t9im80e/1620110475000/04591858293269658552/13164979803223182700Z/1ud4DopDTWm0YBN_tpkvQ3Qax87UDgpcO?e=download&nonce=o6p3bt0fpedu8&user=13164979803223182700Z&hash=2rmdk1euls9r7r1lasf2us9s73555r7o [following]\n",
      "--2021-05-04 06:42:06--  https://doc-04-80-docs.googleusercontent.com/docs/securesc/ihbjqqqh84mpqnprufjb17jb1u5e34rl/snsdogvf5cqjtp5ieu33iksn0t9im80e/1620110475000/04591858293269658552/13164979803223182700Z/1ud4DopDTWm0YBN_tpkvQ3Qax87UDgpcO?e=download&nonce=o6p3bt0fpedu8&user=13164979803223182700Z&hash=2rmdk1euls9r7r1lasf2us9s73555r7o\n",
      "Connecting to doc-04-80-docs.googleusercontent.com (doc-04-80-docs.googleusercontent.com)|142.250.68.161|:443... connected.\n",
      "HTTP request sent, awaiting response... 200 OK\n",
      "Length: unspecified [application/zip]\n",
      "Saving to: ‘NaverMovie.model.zip’\n",
      "\n",
      "NaverMovie.model.zi     [      <=>           ]  69.06M  45.2MB/s    in 1.5s    \n",
      "\n",
      "2021-05-04 06:42:08 (45.2 MB/s) - ‘NaverMovie.model.zip’ saved [72411034]\n",
      "\n"
     ]
    }
   ],
   "source": [
    "! wget --load-cookies cookies.txt \"https://docs.google.com/uc?export=download&confirm=$(wget --quiet --save-cookies cookies.txt --keep-session-cookies --no-check-certificate 'https://docs.google.com/uc?export=download&id=1ud4DopDTWm0YBN_tpkvQ3Qax87UDgpcO' -O- | sed -rn 's/.*confirm=([0-9A-Za-z_]+).*/\\1\\n/p')&id=1ud4DopDTWm0YBN_tpkvQ3Qax87UDgpcO\" -O NaverMovie.model.zip && rm -rf cookies.txt"
   ]
  },
  {
   "cell_type": "code",
   "execution_count": 19,
   "metadata": {},
   "outputs": [
    {
     "name": "stdout",
     "output_type": "stream",
     "text": [
      "total 168884\r\n",
      "drwxrwxr-x 2 wsuser watsonstudio      4096 May  4 06:39 __MACOSX\r\n",
      "-rw-r--r-- 1 wsuser watsonstudio 100518934 Oct 12  2019 NaverMovie.model\r\n",
      "-rw-rw---- 1 wsuser watsonstudio  72411034 May  4 06:42 NaverMovie.model.zip\r\n"
     ]
    }
   ],
   "source": [
    "! ls -l "
   ]
  },
  {
   "cell_type": "code",
   "execution_count": 20,
   "metadata": {},
   "outputs": [
    {
     "name": "stdout",
     "output_type": "stream",
     "text": [
      "Archive:  NaverMovie.model.zip\n",
      "  inflating: NaverMovie.model        \n",
      "  inflating: __MACOSX/._NaverMovie.model  \n"
     ]
    }
   ],
   "source": [
    "! unzip -o NaverMovie.model.zip"
   ]
  },
  {
   "cell_type": "code",
   "execution_count": 21,
   "metadata": {},
   "outputs": [],
   "source": [
    " import csv\n",
    " from konlpy.tag import Okt\n",
    " from gensim.models import word2vec"
   ]
  },
  {
   "cell_type": "code",
   "execution_count": 22,
   "metadata": {},
   "outputs": [
    {
     "name": "stdout",
     "output_type": "stream",
     "text": [
      "***배트맨*****\n",
      "[('비긴즈', 0.70243901014328), ('신용카드', 0.6246640086174011), ('포에버', 0.6128872036933899), ('다크나이트', 0.5437883734703064), ('조엘', 0.5344933271408081), ('담시', 0.5325262546539307), ('시리즈', 0.5035833120346069), ('버튼', 0.49162426590919495), ('배트', 0.4844802916049957), ('베트맨', 0.48180198669433594)]\n",
      "***겨울왕국*****\n",
      "[('라푼젤', 0.6613779664039612), ('라이언킹', 0.5773433446884155), ('애니', 0.551832914352417), ('토이스토리', 0.5433341264724731), ('프로즌', 0.5401561856269836), ('더빙', 0.5370488166809082), ('애니메이션', 0.5346933007240295), ('더파이팅', 0.5277788639068604), ('어린이날', 0.525366485118866), ('디즈니', 0.5229409337043762)]\n"
     ]
    }
   ],
   "source": [
    "model = word2vec.Word2Vec.load(\"NaverMovie.model\")\n",
    "print(\"***배트맨*****\")\n",
    "print(model.wv.most_similar(positive=[\"배트맨\"]))\n",
    "print(\"***겨울왕국*****\")\n",
    "print(model.wv.most_similar(positive=[\"겨울왕국\"]))"
   ]
  }
 ],
 "metadata": {
  "kernelspec": {
   "display_name": "Python 3.7",
   "language": "python",
   "name": "python3"
  },
  "language_info": {
   "codemirror_mode": {
    "name": "ipython",
    "version": 3
   },
   "file_extension": ".py",
   "mimetype": "text/x-python",
   "name": "python",
   "nbconvert_exporter": "python",
   "pygments_lexer": "ipython3",
   "version": "3.7.10"
  }
 },
 "nbformat": 4,
 "nbformat_minor": 2
}
