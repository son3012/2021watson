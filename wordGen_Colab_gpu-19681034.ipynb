{
  "nbformat": 4,
  "nbformat_minor": 0,
  "metadata": {
    "accelerator": "GPU",
    "colab": {
      "name": "wordGen-Colab-gpu.ipynb",
      "provenance": [],
      "collapsed_sections": [],
      "include_colab_link": true
    },
    "kernelspec": {
      "display_name": "Python 3",
      "name": "python3"
    }
  },
  "cells": [
    {
      "cell_type": "markdown",
      "metadata": {
        "id": "view-in-github",
        "colab_type": "text"
      },
      "source": [
        "<a href=\"https://colab.research.google.com/github/son3012/2021watson/blob/main/wordGen_Colab_gpu-19681034.ipynb\" target=\"_parent\"><img src=\"https://colab.research.google.com/assets/colab-badge.svg\" alt=\"Open In Colab\"/></a>"
      ]
    },
    {
      "cell_type": "code",
      "metadata": {
        "id": "LazMJ61LlnOS"
      },
      "source": [
        "from __future__ import print_function\n",
        "import json\n",
        "from keras.models import Sequential\n",
        "from keras.layers import Dense, Activation\n",
        "from keras.layers import LSTM\n",
        "from keras.optimizers import Adam\n",
        "from keras.utils.data_utils import get_file\n",
        "import numpy as np\n",
        "import random\n",
        "import sys\n",
        "import tensorflow as tf"
      ],
      "execution_count": 1,
      "outputs": []
    },
    {
      "cell_type": "code",
      "metadata": {
        "id": "aiFiVMFIozHn"
      },
      "source": [
        "%%capture\n",
        "! wget --no-check-certificate 'https://docs.google.com/uc?export=download&id=1m5rdL_vkZr7JCo_-8g4v9fh2jfU-sX-A' -O yelp_100_3.txt\n",
        "! wget --no-check-certificate 'https://docs.google.com/uc?export=download&id=1qfMZCaANhTR6b1NM4jXGNQQP5Z3eSyq8' -O indices_char.txt\n",
        "! wget --no-check-certificate 'https://docs.google.com/uc?export=download&id=1a1CVCwKQWxyHBpTR3sVgsf7eRtZHjUqx' -O char_indices.txt\n",
        "! wget --no-check-certificate 'https://docs.google.com/uc?export=download&id=1MZEUyaqT48D858zwEVzlTfjgXJvmY-BI' -O transfer_weights"
      ],
      "execution_count": 2,
      "outputs": []
    },
    {
      "cell_type": "code",
      "metadata": {
        "colab": {
          "base_uri": "https://localhost:8080/"
        },
        "id": "Tc0xeVf2mPXt",
        "outputId": "a72f144a-ac13-4d65-9fc8-6f4a6770c52d"
      },
      "source": [
        "!ls -l"
      ],
      "execution_count": 3,
      "outputs": [
        {
          "output_type": "stream",
          "text": [
            "total 29896\n",
            "-rw-r--r-- 1 root root      541 May 11 07:24 char_indices.txt\n",
            "-rw-r--r-- 1 root root      663 May 11 07:24 indices_char.txt\n",
            "drwxr-xr-x 1 root root     4096 May  6 13:44 sample_data\n",
            "-rw-r--r-- 1 root root 30524436 May 11 07:24 transfer_weights\n",
            "-rw-r--r-- 1 root root    71250 May 11 07:24 yelp_100_3.txt\n"
          ],
          "name": "stdout"
        }
      ]
    },
    {
      "cell_type": "code",
      "metadata": {
        "colab": {
          "base_uri": "https://localhost:8080/"
        },
        "id": "cu1t1VSrmTwz",
        "outputId": "c665f2d2-7b8f-4196-d88c-9e7b9aecd7ae"
      },
      "source": [
        "path = 'yelp_100_3.txt'\n",
        "text = open(path).read().lower()\n",
        "print('corpus length:', len(text))\n",
        "\n",
        "char_indices = json.loads(open('char_indices.txt').read())\n",
        "indices_char = json.loads(open('indices_char.txt').read())\n",
        "chars = sorted(char_indices.keys())\n",
        "print(indices_char)\n",
        "#chars = sorted(list(set(text)))\n",
        "print('total chars:', len(chars))\n",
        "#char_indices = dict((c, i) for i, c in enumerate(chars))\n",
        "#indices_char = dict((i, c) for i, c in enumerate(chars))\n",
        "\n",
        "# cut the text in semi-redundant sequences of maxlen characters\n",
        "maxlen = 256\n",
        "step = 3\n",
        "sentences = []\n",
        "next_chars = []\n",
        "for i in range(0, len(text) - maxlen, step):\n",
        "    sentences.append(text[i: i + maxlen])\n",
        "    next_chars.append(text[i + maxlen])\n",
        "print('nb sequences:', len(sentences))\n",
        "\n",
        "print('Vectorization...')\n",
        "X = np.zeros((len(sentences), maxlen, len(chars)), dtype=np.bool)\n",
        "y = np.zeros((len(sentences), len(chars)), dtype=np.bool)\n",
        "for i, sentence in enumerate(sentences):\n",
        "    for t, char in enumerate(sentence):\n",
        "        X[i, t, char_indices[char]] = 1\n",
        "    y[i, char_indices[next_chars[i]]] = 1\n",
        "\n",
        "\n"
      ],
      "execution_count": 4,
      "outputs": [
        {
          "output_type": "stream",
          "text": [
            "corpus length: 71250\n",
            "{'0': '\\n', '1': ' ', '2': '!', '3': '\"', '4': '#', '5': '$', '6': '%', '7': '&', '8': \"'\", '9': '(', '10': ')', '11': '*', '12': '+', '13': ',', '14': '-', '15': '.', '16': '/', '17': '0', '18': '1', '19': '2', '20': '3', '21': '4', '22': '5', '23': '6', '24': '7', '25': '8', '26': '9', '27': ':', '28': ';', '29': '=', '30': '?', '31': '[', '32': ']', '33': 'a', '34': 'b', '35': 'c', '36': 'd', '37': 'e', '38': 'f', '39': 'g', '40': 'h', '41': 'i', '42': 'j', '43': 'k', '44': 'l', '45': 'm', '46': 'n', '47': 'o', '48': 'p', '49': 'q', '50': 'r', '51': 's', '52': 't', '53': 'u', '54': 'v', '55': 'w', '56': 'x', '57': 'y', '58': 'z', '59': '{', '60': '}'}\n",
            "total chars: 61\n",
            "nb sequences: 23665\n",
            "Vectorization...\n"
          ],
          "name": "stdout"
        }
      ]
    },
    {
      "cell_type": "code",
      "metadata": {
        "colab": {
          "base_uri": "https://localhost:8080/"
        },
        "id": "Kk8heE1FyCgs",
        "outputId": "b9651c56-6739-48f4-e3fa-d3cea326ef3d"
      },
      "source": [
        "\n",
        "# build the model: a single LSTM\n",
        "print('Build model...')\n",
        "model = Sequential()\n",
        "model.add(LSTM(1024, return_sequences=True, input_shape=(maxlen, len(chars))))\n",
        "model.add(LSTM(512, return_sequences=False))\n",
        "model.add(Dense(len(chars)))\n",
        "model.add(Activation('softmax'))\n",
        "optimizer = Adam(lr=0.002)\n",
        "model.compile(loss='categorical_crossentropy', optimizer=optimizer)"
      ],
      "execution_count": 5,
      "outputs": [
        {
          "output_type": "stream",
          "text": [
            "Build model...\n"
          ],
          "name": "stdout"
        }
      ]
    },
    {
      "cell_type": "code",
      "metadata": {
        "colab": {
          "base_uri": "https://localhost:8080/"
        },
        "id": "stQZjEGtx1DZ",
        "outputId": "86812656-8150-4681-a557-d08c50fa95a3"
      },
      "source": [
        "print(model.summary())"
      ],
      "execution_count": 6,
      "outputs": [
        {
          "output_type": "stream",
          "text": [
            "Model: \"sequential\"\n",
            "_________________________________________________________________\n",
            "Layer (type)                 Output Shape              Param #   \n",
            "=================================================================\n",
            "lstm (LSTM)                  (None, 256, 1024)         4448256   \n",
            "_________________________________________________________________\n",
            "lstm_1 (LSTM)                (None, 512)               3147776   \n",
            "_________________________________________________________________\n",
            "dense (Dense)                (None, 61)                31293     \n",
            "_________________________________________________________________\n",
            "activation (Activation)      (None, 61)                0         \n",
            "=================================================================\n",
            "Total params: 7,627,325\n",
            "Trainable params: 7,627,325\n",
            "Non-trainable params: 0\n",
            "_________________________________________________________________\n",
            "None\n"
          ],
          "name": "stdout"
        }
      ]
    },
    {
      "cell_type": "code",
      "metadata": {
        "colab": {
          "base_uri": "https://localhost:8080/"
        },
        "id": "Tbp_lVfN_Pos",
        "outputId": "421b9246-b9d0-4dca-d897-b692f099baa7"
      },
      "source": [
        "model.load_weights(\"transfer_weights\")\n",
        "print('model loaded...')\n",
        "def sample(preds, temperature=.6):\n",
        "    # helper function to sample an index from a probability array\n",
        "    preds = np.asarray(preds).astype('float64')\n",
        "    preds = np.log(preds) / temperature\n",
        "    exp_preds = np.exp(preds)\n",
        "    preds = exp_preds / np.sum(exp_preds)\n",
        "    probas = np.random.multinomial(1, preds, 1)\n",
        "    return np.argmax(probas)\n",
        "\n",
        "# train the model, output generated text after each iteration\n",
        "for iteration in range(1, 5):\n",
        "    print()\n",
        "    print('-' * 50)\n",
        "    print('Iteration', iteration)\n",
        "    x = np.zeros((1, maxlen, len(chars)))\n",
        "    preds = model.predict(x, verbose=0)[0]\n",
        "    \n",
        "    model.fit(X, y, batch_size=128, epochs=1)\n",
        "\n",
        "    start_index = random.randint(0, len(text) - maxlen - 1)\n",
        "    #start_index = char_indices[\"{\"]\n",
        "\n",
        "    for diversity in [0.2, 0.4, 0.6, 0.8]:\n",
        "        print()\n",
        "        print('----- diversity:', diversity)\n",
        "\n",
        "        generated = ''\n",
        "        sentence = text[start_index: start_index + maxlen]\n",
        "        generated += sentence\n",
        "        print('----- Generating with seed: \"' + sentence + '\"')\n",
        "        sys.stdout.write(generated)\n",
        "        for i in range(400):\n",
        "            x = np.zeros((1, maxlen, len(chars)))\n",
        "            for t, char in enumerate(sentence):\n",
        "                x[0, t, char_indices[char]] = 1.\n",
        "\n",
        "            preds = model.predict(x, verbose=0)[0]\n",
        "            next_index = sample(preds, diversity)\n",
        "            #print(next_index)\n",
        "            #print (indices_char)\n",
        "            next_char = indices_char[str(next_index)]\n",
        "\n",
        "            generated += next_char\n",
        "            sentence = sentence[1:] + next_char\n",
        "\n",
        "            sys.stdout.write(next_char)\n",
        "            sys.stdout.flush()\n",
        "        print()"
      ],
      "execution_count": 7,
      "outputs": [
        {
          "output_type": "stream",
          "text": [
            "model loaded...\n",
            "\n",
            "--------------------------------------------------\n",
            "Iteration 1\n",
            "185/185 [==============================] - 88s 463ms/step - loss: 1.4812\n",
            "\n",
            "----- diversity: 0.2\n",
            "----- Generating with seed: \"s sense because it is, in fact, a college town) - but for those of us who work in the are this is a nice break from the regular places.  i will be adding this to my list of lunch options. \n",
            "\n",
            "it is really nice when you are looking for a light salad or even q\"\n",
            "s sense because it is, in fact, a college town) - but for those of us who work in the are this is a nice break from the regular places.  i will be adding this to my list of lunch options. \n",
            "\n",
            "it is really nice when you are looking for a light salad or even quickly of mish sauce is my freshlent of the service was so i was so it was a bit of perfored our and the salad and so i was so it was a little lood for the corner for my handwith a great service was so my friend order the service was all the best phice was great service was so i was so it was so i was all of the change the saste the moneish the service was so i don't mest the sauce to complained t\n",
            "\n",
            "----- diversity: 0.4\n",
            "----- Generating with seed: \"s sense because it is, in fact, a college town) - but for those of us who work in the are this is a nice break from the regular places.  i will be adding this to my list of lunch options. \n",
            "\n",
            "it is really nice when you are looking for a light salad or even q\"\n",
            "s sense because it is, in fact, a college town) - but for those of us who work in the are this is a nice break from the regular places.  i will be adding this to my list of lunch options. \n",
            "\n",
            "it is really nice when you are looking for a light salad or even quickly location of to me.  the food and ase the coofee inside the salsa the stopped, i don't said inside that i don't my fresharancy but it's cheeses and the salad was good forgues, and dishes the christectiffed is indo and dishes, it was a little from not completsed our on the cooter sauce for a like of mestarazing inside it's a give it is were bother taste to the food as inside\" i stopen to the \n",
            "\n",
            "----- diversity: 0.6\n",
            "----- Generating with seed: \"s sense because it is, in fact, a college town) - but for those of us who work in the are this is a nice break from the regular places.  i will be adding this to my list of lunch options. \n",
            "\n",
            "it is really nice when you are looking for a light salad or even q\"\n",
            "s sense because it is, in fact, a college town) - but for those of us who work in the are this is a nice break from the regular places.  i will be adding this to my list of lunch options. \n",
            "\n",
            "it is really nice when you are looking for a light salad or even quick, and the corner was awout of toptry the corner was a leve to since the service is very was so in the cooter and so food and the simela soup for the more bar for the service was mane and so my mon is a little cooking formuch, but i was sooned to get a little prices to come but it's offering the sandwiches but it's different foummally not mayed it was so my mon't med with wing of misch the frie\n",
            "\n",
            "----- diversity: 0.8\n",
            "----- Generating with seed: \"s sense because it is, in fact, a college town) - but for those of us who work in the are this is a nice break from the regular places.  i will be adding this to my list of lunch options. \n",
            "\n",
            "it is really nice when you are looking for a light salad or even q\"\n",
            "s sense because it is, in fact, a college town) - but for those of us who work in the are this is a nice break from the regular places.  i will be adding this to my list of lunch options. \n",
            "\n",
            "it is really nice when you are looking for a light salad or even quickly swilling handshey bowt in conutanda that is work.  the backsting my hundable the besh phonert-/of to onior and orner that the befo eaps a defenite of lind!  they's me wife buind the sispee will pinch, pup dode.  it's also taste and don't leve to rem so i will be geeated night by sompletting do bowe a friend - a were potates with with the selactioned cegimase wasnly dining returning get more\n",
            "\n",
            "--------------------------------------------------\n",
            "Iteration 2\n",
            "185/185 [==============================] - 86s 464ms/step - loss: 1.0459\n",
            "\n",
            "----- diversity: 0.2\n",
            "----- Generating with seed: \"k...this place is *really* outdated...however, the food was great.  the veggie plate was gone fast (barely got to taste any of it ... wife loved it) and my gryo plate was very good as well.  this is the only other place that i've been to where the felafel \"\n",
            "k...this place is *really* outdated...however, the food was great.  the veggie plate was gone fast (barely got to taste any of it ... wife loved it) and my gryo plate was very good as well.  this is the only other place that i've been to where the felafel with a spices of prices and the only have one of the food as a little chipf but that have to try the menu and have as we asked in the morning and a sarvad and i am not the salad  and i am not the service was not that have to try the mange and the food as the best phation and the food and the food is a little after heat good.  i don't taste and i am not the meal was all the chef combo end and the f\n",
            "\n",
            "----- diversity: 0.4\n",
            "----- Generating with seed: \"k...this place is *really* outdated...however, the food was great.  the veggie plate was gone fast (barely got to taste any of it ... wife loved it) and my gryo plate was very good as well.  this is the only other place that i've been to where the felafel \"\n",
            "k...this place is *really* outdated...however, the food was great.  the veggie plate was gone fast (barely got to taste any of it ... wife loved it) and my gryo plate was very good as well.  this is the only other place that i've been to where the felafel was so you can bry and a friends and the blat and had we ate a fred she on a salad and i am not the the chef was very starf.}{when i even menu and i was the bry of way to an barner for a beef and the food is was hery was a great served with oull the menu and my friends and the meal with changes are nead that i was a bit of par and was the only reason a price and the salsa and have had the salsa an\n",
            "\n",
            "----- diversity: 0.6\n",
            "----- Generating with seed: \"k...this place is *really* outdated...however, the food was great.  the veggie plate was gone fast (barely got to taste any of it ... wife loved it) and my gryo plate was very good as well.  this is the only other place that i've been to where the felafel \"\n",
            "k...this place is *really* outdated...however, the food was great.  the veggie plate was gone fast (barely got to taste any of it ... wife loved it) and my gryo plate was very good as well.  this is the only other place that i've been to where the felafel with not served recupling ask and my favorite breakfast was a great service carne as we at on the booth that have not definitely "
          ],
          "name": "stdout"
        },
        {
          "output_type": "stream",
          "text": [
            "/usr/local/lib/python3.7/dist-packages/ipykernel_launcher.py:6: RuntimeWarning: divide by zero encountered in log\n",
            "  \n"
          ],
          "name": "stderr"
        },
        {
          "output_type": "stream",
          "text": [
            "not me as on the midnute up an ad oke of my was ho seat different sig h t con manute for a looked dinner.  i do und and the salmon on am awnyone of the bratmer and salsa my has been quile follod can at again. \n",
            "\n",
            "i have been bond the kmonst and a famile and point.  we were\n",
            "\n",
            "----- diversity: 0.8\n",
            "----- Generating with seed: \"k...this place is *really* outdated...however, the food was great.  the veggie plate was gone fast (barely got to taste any of it ... wife loved it) and my gryo plate was very good as well.  this is the only other place that i've been to where the felafel \"\n",
            "k...this place is *really* outdated...however, the food was great.  the veggie plate was gone fast (barely got to taste any of it ... wife loved it) and my gryo plate was very good as well.  this is the only other place that i've been to where the felafel with a tasting platty choices which i dre day not but old take have not for a very clearly the middbe the hall!  the meat was keoul and relling a desints of the chicken and never desent there actosh that compoo to have not of it's not great staff don't anner pailly dinner a sandw bricken after heant with chilina canerelich and new because i will be going that start stayfood pizza.  i perfor a need\n",
            "\n",
            "--------------------------------------------------\n",
            "Iteration 3\n",
            "185/185 [==============================] - 86s 463ms/step - loss: 0.8101\n",
            "\n",
            "----- diversity: 0.2\n",
            "----- Generating with seed: \" wheat noodles to fill the bowl to the brim.  follow with the sweet and sour mix but add some extra vinegar and orange sauce.  add some pineapple and all set to have it grilled.  fill a small bowl with peanuts and another small bowl with pineapple.  fill t\"\n",
            " wheat noodles to fill the bowl to the brim.  follow with the sweet and sour mix but add some extra vinegar and orange sauce.  add some pineapple and all set to have it grilled.  fill a small bowl with peanuts and another small bowl with pineapple.  fill the cooked to the cookee of salad on a friday from the means stuffed coffee cooless she satha from the cheese as i came better ince the mange and the salce.  sometimns of my came backs.\n",
            "\n",
            "we will be better fancok the best places that is a great staff, and the salce.  seeled of sauce.  i loved the salce.  i lead or some tith the salce the salcages carner and cheese, and the salce.  selled and the sal\n",
            "\n",
            "----- diversity: 0.4\n",
            "----- Generating with seed: \" wheat noodles to fill the bowl to the brim.  follow with the sweet and sour mix but add some extra vinegar and orange sauce.  add some pineapple and all set to have it grilled.  fill a small bowl with peanuts and another small bowl with pineapple.  fill t\"\n",
            " wheat noodles to fill the bowl to the brim.  follow with the sweet and sour mix but add some extra vinegar and orange sauce.  add some pineapple and all set to have it grilled.  fill a small bowl with peanuts and another small bowl with pineapple.  fill the coult on a little liked the food as the best into the sauce the sauce.  it's awnuds it is panery, and going to start, much to choose in the mood to makeasters are say i con a beease to thing i was good. i decided to though the salce the tact that when i want to thing to order the place is no badnets, sausage the salce.  sicked my favorites leff a great place, shople the cheese, be fle sook and \n",
            "\n",
            "----- diversity: 0.6\n",
            "----- Generating with seed: \" wheat noodles to fill the bowl to the brim.  follow with the sweet and sour mix but add some extra vinegar and orange sauce.  add some pineapple and all set to have it grilled.  fill a small bowl with peanuts and another small bowl with pineapple.  fill t\"\n",
            " wheat noodles to fill the bowl to the brim.  follow with the sweet and sour mix but add some extra vinegar and orange sauce.  add some pineapple and all set to have it grilled.  fill a small bowl with peanuts and another small bowl with pineapple.  fill the best pay, but it's the meas are food from the cheese of the best pitchoush, and i loved this i also faruly each of good ficay from.\n",
            "\n",
            "folate for a leasted my fresh-s bnood fough their place, she was pood, and checolles.  i do but for the types to give the salca the cooked and they give it a the salad, and i sawdy good light slecoss i loved the think, be grilled bottle of pabblo and cheese, be cl\n",
            "\n",
            "----- diversity: 0.8\n",
            "----- Generating with seed: \" wheat noodles to fill the bowl to the brim.  follow with the sweet and sour mix but add some extra vinegar and orange sauce.  add some pineapple and all set to have it grilled.  fill a small bowl with peanuts and another small bowl with pineapple.  fill t\"\n",
            " wheat noodles to fill the bowl to the brim.  follow with the sweet and sour mix but add some extra vinegar and orange sauce.  add some pineapple and all set to have it grilled.  fill a small bowl with peanuts and another small bowl with pineapple.  fill the cree hos not suse for a left i've been ase heave falona to the kand barnera and cream, and halffed fan'ts they concemelidand head the best its, a great then's sit and they din enough to salad and this cannoy newes i with menuy fam loned little salad on a good right bnowsim ond bells a lot wite closestees, had a little packed) and sheel chefple and go free, is given the fries was slowe food.  i \n",
            "\n",
            "--------------------------------------------------\n",
            "Iteration 4\n",
            "185/185 [==============================] - 86s 463ms/step - loss: 0.6178\n",
            "\n",
            "----- diversity: 0.2\n",
            "----- Generating with seed: \"t let that affect the rating though.\n",
            "\n",
            "awesome place!}{we stayed at the hyatt gainey ranch during spring break and had a fabulous time. we ate at swb for lunch and enjoyed it so much we ordered dinner that evening to eat in the room with our kids. my husban\"\n",
            "t let that affect the rating though.\n",
            "\n",
            "awesome place!}{we stayed at the hyatt gainey ranch during spring break and had a fabulous time. we ate at swb for lunch and enjoyed it so much we ordered dinner that evening to eat in the room with our kids. my husband or soup is this is my froming a nuts the best pitcher and service was a bit spicy combu and be bring a nuts are here going to thip when i was everydene, be better in the mood is plesty courts, i asked in the morrow point, i asked in the mornich, but it's this is i will be going to everyone i tread, more chili (wine with a try thing, be brick and i am not in the morning. i will be back and i am n\n",
            "\n",
            "----- diversity: 0.4\n",
            "----- Generating with seed: \"t let that affect the rating though.\n",
            "\n",
            "awesome place!}{we stayed at the hyatt gainey ranch during spring break and had a fabulous time. we ate at swb for lunch and enjoyed it so much we ordered dinner that evening to eat in the room with our kids. my husban\"\n",
            "t let that affect the rating though.\n",
            "\n",
            "awesome place!}{we stayed at the hyatt gainey ranch during spring break and had a fabulous time. we ate at swb for lunch and enjoyed it so much we ordered dinner that evening to eat in the room with our kids. my husband ortered meat since i and i also cook to ever housh i will be back and i as well breakfalo....\n",
            "\n",
            "the service is so you could be back and so i cake and it was all looking a phope and go brink if you can have to sandwith the cook to it was all of the corn had a be are ho be going to order some carry will be back and i neve  one of top.  the server pit pook.  the cooker sauce.  i was smoked quickly w\n",
            "\n",
            "----- diversity: 0.6\n",
            "----- Generating with seed: \"t let that affect the rating though.\n",
            "\n",
            "awesome place!}{we stayed at the hyatt gainey ranch during spring break and had a fabulous time. we ate at swb for lunch and enjoyed it so much we ordered dinner that evening to eat in the room with our kids. my husban\"\n",
            "t let that affect the rating though.\n",
            "\n",
            "awesome place!}{we stayed at the hyatt gainey ranch during spring break and had a fabulous time. we ate at swb for lunch and enjoyed it so much we ordered dinner that evening to eat in the room with our kids. my husband or a breakfast with salso end intice to with a shine of their  were so ded the best finting beer, and the bood popusion, but it's ohe of their :were so your price is that subsome it was sous by back and a service is very not of it was sor i llve this place. oreshite with char really of presty behord to salad by a shine to get a spot souk in the month.  i have heart to give stick i steakhorsion. \n",
            "\n",
            "----- diversity: 0.8\n",
            "----- Generating with seed: \"t let that affect the rating though.\n",
            "\n",
            "awesome place!}{we stayed at the hyatt gainey ranch during spring break and had a fabulous time. we ate at swb for lunch and enjoyed it so much we ordered dinner that evening to eat in the room with our kids. my husban\"\n",
            "t let that affect the rating though.\n",
            "\n",
            "awesome place!}{we stayed at the hyatt gainey ranch during spring break and had a fabulous time. we ate at swb for lunch and enjoyed it so much we ordered dinner that evening to eat in the room with our kids. my husband. carrytite with a really this place?  i would review or great quick!}{wack, of soup of town breakfast):\n",
            "0 prowa brewg and they ordered the cold her out of their so how the bar clab bad and he served in.... it was hery so the price wish we renoughing a sprouch, and he desprizing was whithouten the conterta ty i must pay.\n",
            "\n",
            "very cream, but it wasn't just have heatiog. they done.  i recommend this p\n"
          ],
          "name": "stdout"
        }
      ]
    }
  ]
}