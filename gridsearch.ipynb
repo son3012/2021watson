{
  "nbformat": 4,
  "nbformat_minor": 0,
  "metadata": {
    "colab": {
      "name": "gridsearch.ipynb",
      "provenance": [],
      "collapsed_sections": [],
      "include_colab_link": true
    },
    "kernelspec": {
      "name": "python3",
      "display_name": "Python 3"
    },
    "language_info": {
      "name": "python"
    }
  },
  "cells": [
    {
      "cell_type": "markdown",
      "metadata": {
        "id": "view-in-github",
        "colab_type": "text"
      },
      "source": [
        "<a href=\"https://colab.research.google.com/github/son3012/2021watson/blob/main/gridsearch.ipynb\" target=\"_parent\"><img src=\"https://colab.research.google.com/assets/colab-badge.svg\" alt=\"Open In Colab\"/></a>"
      ]
    },
    {
      "cell_type": "markdown",
      "metadata": {
        "id": "fPckXwWtpmYM"
      },
      "source": [
        "# Grid Search 실습"
      ]
    },
    {
      "cell_type": "markdown",
      "metadata": {
        "id": "bO3cy2LKp8ty"
      },
      "source": [
        "### 데이터셋 다운로드"
      ]
    },
    {
      "cell_type": "code",
      "metadata": {
        "id": "_-A09C_Ygd_E",
        "colab": {
          "base_uri": "https://localhost:8080/"
        },
        "outputId": "0a662559-87bb-4f0d-bc2f-445e75ab6daa"
      },
      "source": [
        "! wget --no-check-certificate 'https://docs.google.com/uc?export=download&id=1GBtNoT3sC2ZjscrPKaFwb5pBEqLNrF9Z' -O pima-indians-diabetes.csv #https://drive.google.com/file/d/1GBtNoT3sC2ZjscrPKaFwb5pBEqLNrF9Z/view?usp=sharing"
      ],
      "execution_count": 7,
      "outputs": [
        {
          "output_type": "stream",
          "text": [
            "--2021-05-31 08:29:57--  https://docs.google.com/uc?export=download&id=1GBtNoT3sC2ZjscrPKaFwb5pBEqLNrF9Z\n",
            "Resolving docs.google.com (docs.google.com)... 173.194.215.139, 173.194.215.138, 173.194.215.113, ...\n",
            "Connecting to docs.google.com (docs.google.com)|173.194.215.139|:443... connected.\n",
            "HTTP request sent, awaiting response... 302 Moved Temporarily\n",
            "Location: https://doc-0o-1s-docs.googleusercontent.com/docs/securesc/ha0ro937gcuc7l7deffksulhg5h7mbp1/72sum80urknmirt0gkgve5sldn4mtu6e/1622449725000/04591858293269658552/*/1GBtNoT3sC2ZjscrPKaFwb5pBEqLNrF9Z?e=download [following]\n",
            "Warning: wildcards not supported in HTTP.\n",
            "--2021-05-31 08:29:58--  https://doc-0o-1s-docs.googleusercontent.com/docs/securesc/ha0ro937gcuc7l7deffksulhg5h7mbp1/72sum80urknmirt0gkgve5sldn4mtu6e/1622449725000/04591858293269658552/*/1GBtNoT3sC2ZjscrPKaFwb5pBEqLNrF9Z?e=download\n",
            "Resolving doc-0o-1s-docs.googleusercontent.com (doc-0o-1s-docs.googleusercontent.com)... 74.125.26.132, 2607:f8b0:400c:c04::84\n",
            "Connecting to doc-0o-1s-docs.googleusercontent.com (doc-0o-1s-docs.googleusercontent.com)|74.125.26.132|:443... connected.\n",
            "HTTP request sent, awaiting response... 200 OK\n",
            "Length: 23278 (23K) [text/csv]\n",
            "Saving to: ‘pima-indians-diabetes.csv’\n",
            "\n",
            "pima-indians-diabet 100%[===================>]  22.73K  --.-KB/s    in 0s      \n",
            "\n",
            "2021-05-31 08:29:58 (108 MB/s) - ‘pima-indians-diabetes.csv’ saved [23278/23278]\n",
            "\n"
          ],
          "name": "stdout"
        }
      ]
    },
    {
      "cell_type": "markdown",
      "metadata": {
        "id": "nordxEjdpl3R"
      },
      "source": [
        "## batch size와 epoch 최적화"
      ]
    },
    {
      "cell_type": "code",
      "metadata": {
        "cellView": "form",
        "collapsed": true,
        "id": "wjNvrMeJda5J",
        "colab": {
          "base_uri": "https://localhost:8080/"
        },
        "outputId": "046c3bbf-43f4-43b5-bb9d-2b869217576f"
      },
      "source": [
        "#@title\n",
        "# Use scikit-learn to grid search the batch size and epochs\n",
        "import numpy\n",
        "from sklearn.model_selection import GridSearchCV\n",
        "from keras.models import Sequential\n",
        "from keras.layers import Dense\n",
        "from keras.wrappers.scikit_learn import KerasClassifier\n",
        "# Function to create model, required for KerasClassifier\n",
        "def create_model():\n",
        "\t# create model\n",
        "\tmodel = Sequential()\n",
        "\tmodel.add(Dense(12, input_dim=8, activation='relu'))\n",
        "\tmodel.add(Dense(1, activation='sigmoid'))\n",
        "\t# Compile model\n",
        "\tmodel.compile(loss='binary_crossentropy', optimizer='adam', metrics=['accuracy'])\n",
        "\treturn model\n",
        "# fix random seed for reproducibility\n",
        "seed = 7\n",
        "numpy.random.seed(seed)\n",
        "# load dataset\n",
        "dataset = numpy.loadtxt(\"pima-indians-diabetes.csv\", delimiter=\",\")\n",
        "# split into input (X) and output (Y) variables\n",
        "X = dataset[:,0:8]\n",
        "Y = dataset[:,8]\n",
        "# create model\n",
        "model = KerasClassifier(build_fn=create_model, verbose=0)\n",
        "# define the grid search parameters\n",
        "batch_size = [10, 20, 40, 60, 80, 100]\n",
        "epochs = [10, 50, 100]\n",
        "param_grid = dict(batch_size=batch_size, epochs=epochs)\n",
        "grid = GridSearchCV(estimator=model, param_grid=param_grid, n_jobs=-1, cv=3)\n",
        "grid_result = grid.fit(X, Y)\n",
        "# summarize results\n",
        "print(\"Best: %f using %s\" % (grid_result.best_score_, grid_result.best_params_))\n",
        "means = grid_result.cv_results_['mean_test_score']\n",
        "stds = grid_result.cv_results_['std_test_score']\n",
        "params = grid_result.cv_results_['params']\n",
        "for mean, stdev, param in zip(means, stds, params):\n",
        "    print(\"%f (%f) with: %r\" % (mean, stdev, param))"
      ],
      "execution_count": 8,
      "outputs": [
        {
          "output_type": "stream",
          "text": [
            "Best: 0.710938 using {'batch_size': 20, 'epochs': 100}\n",
            "0.584635 (0.024774) with: {'batch_size': 10, 'epochs': 10}\n",
            "0.656250 (0.014616) with: {'batch_size': 10, 'epochs': 50}\n",
            "0.687500 (0.016573) with: {'batch_size': 10, 'epochs': 100}\n",
            "0.513021 (0.028587) with: {'batch_size': 20, 'epochs': 10}\n",
            "0.656250 (0.035943) with: {'batch_size': 20, 'epochs': 50}\n",
            "0.710938 (0.019918) with: {'batch_size': 20, 'epochs': 100}\n",
            "0.587240 (0.064529) with: {'batch_size': 40, 'epochs': 10}\n",
            "0.658854 (0.013279) with: {'batch_size': 40, 'epochs': 50}\n",
            "0.670573 (0.008027) with: {'batch_size': 40, 'epochs': 100}\n",
            "0.576823 (0.001841) with: {'batch_size': 60, 'epochs': 10}\n",
            "0.598958 (0.007366) with: {'batch_size': 60, 'epochs': 50}\n",
            "0.640625 (0.019401) with: {'batch_size': 60, 'epochs': 100}\n",
            "0.635417 (0.030978) with: {'batch_size': 80, 'epochs': 10}\n",
            "0.630208 (0.045814) with: {'batch_size': 80, 'epochs': 50}\n",
            "0.660156 (0.006379) with: {'batch_size': 80, 'epochs': 100}\n",
            "0.550781 (0.057675) with: {'batch_size': 100, 'epochs': 10}\n",
            "0.630208 (0.061873) with: {'batch_size': 100, 'epochs': 50}\n",
            "0.635417 (0.026557) with: {'batch_size': 100, 'epochs': 100}\n"
          ],
          "name": "stdout"
        }
      ]
    },
    {
      "cell_type": "markdown",
      "metadata": {
        "id": "Qa6Mtgpqq9p5"
      },
      "source": [
        "## 학습률과 모멘텀 최적화"
      ]
    },
    {
      "cell_type": "code",
      "metadata": {
        "colab": {
          "base_uri": "https://localhost:8080/"
        },
        "id": "i-7XNGr6ijr-",
        "outputId": "1177a9fa-9b6d-430b-b93c-77c5036a9ff1"
      },
      "source": [
        "#@title\n",
        "# Use scikit-learn to grid search the learning rate and momentum\n",
        "import numpy\n",
        "from sklearn.model_selection import GridSearchCV\n",
        "from keras.models import Sequential\n",
        "from keras.layers import Dense\n",
        "from keras.wrappers.scikit_learn import KerasClassifier\n",
        "from keras.optimizers import SGD\n",
        "import time\n",
        "# Function to create model, required for KerasClassifier\n",
        "def create_model(learn_rate=0.01, momentum=0):\n",
        "\t# create model\n",
        "\tmodelx = Sequential()\n",
        "\tmodelx.add(Dense(12, input_dim=8, activation='relu'))\n",
        "\tmodelx.add(Dense(1, activation='sigmoid'))\n",
        "\t# Compile model\n",
        "\toptimizer = SGD(lr=learn_rate, momentum=momentum)\n",
        "\tmodelx.compile(loss='binary_crossentropy', optimizer=optimizer, metrics=['accuracy'])\n",
        "\treturn modelx\n",
        "# fix random seed for reproducibility\n",
        "seed = 7\n",
        "numpy.random.seed(seed)\n",
        "# load dataset\n",
        "dataset = numpy.loadtxt(\"pima-indians-diabetes.csv\", delimiter=\",\")\n",
        "# split into input (X) and output (Y) variables\n",
        "X = dataset[:,0:8]\n",
        "Y = dataset[:,8]\n",
        "# create model\n",
        "modelx = KerasClassifier(build_fn=create_model, epochs=100, batch_size=10, verbose=0)\n",
        "# define the grid search parameters\n",
        "learn_rate = [0.001, 0.01, 0.1, 0.2, 0.3]\n",
        "momentum = [0.0, 0.2, 0.4, 0.6, 0.8, 0.9]\n",
        "param_grid = dict(learn_rate=learn_rate, momentum=momentum)\n",
        "grid = GridSearchCV(estimator=modelx, param_grid=param_grid, n_jobs=-1, cv=3)\n",
        "\n",
        "# 트레이닝 시작\n",
        "start = time.time()\n",
        "print(\"트레이닝 시작\")\n",
        "grid_result = grid.fit(X, Y)\n",
        "end = time.time()\n",
        "print(end - start, ' 초 결렸습니다')    \n",
        "\n",
        "# summarize results\n",
        "print(\"Best: %f using %s\" % (grid_result.best_score_, grid_result.best_params_))\n",
        "means = grid_result.cv_results_['mean_test_score']\n",
        "stds = grid_result.cv_results_['std_test_score']\n",
        "params = grid_result.cv_results_['params']\n",
        "for mean, stdev, param in zip(means, stds, params):\n",
        "    print(\"%f (%f) with: %r\" % (mean, stdev, param))"
      ],
      "execution_count": 9,
      "outputs": [
        {
          "output_type": "stream",
          "text": [
            "트레이닝 시작\n"
          ],
          "name": "stdout"
        },
        {
          "output_type": "stream",
          "text": [
            "/usr/local/lib/python3.7/dist-packages/tensorflow/python/keras/optimizer_v2/optimizer_v2.py:375: UserWarning: The `lr` argument is deprecated, use `learning_rate` instead.\n",
            "  \"The `lr` argument is deprecated, use `learning_rate` instead.\")\n"
          ],
          "name": "stderr"
        },
        {
          "output_type": "stream",
          "text": [
            "453.6333496570587  초 결렸습니다\n",
            "Best: 0.690104 using {'learn_rate': 0.001, 'momentum': 0.4}\n",
            "0.675781 (0.027251) with: {'learn_rate': 0.001, 'momentum': 0.0}\n",
            "0.673177 (0.042353) with: {'learn_rate': 0.001, 'momentum': 0.2}\n",
            "0.690104 (0.024150) with: {'learn_rate': 0.001, 'momentum': 0.4}\n",
            "0.679688 (0.013902) with: {'learn_rate': 0.001, 'momentum': 0.6}\n",
            "0.667969 (0.020915) with: {'learn_rate': 0.001, 'momentum': 0.8}\n",
            "0.660156 (0.038273) with: {'learn_rate': 0.001, 'momentum': 0.9}\n",
            "0.674479 (0.025976) with: {'learn_rate': 0.01, 'momentum': 0.0}\n",
            "0.673177 (0.035849) with: {'learn_rate': 0.01, 'momentum': 0.2}\n",
            "0.648438 (0.025315) with: {'learn_rate': 0.01, 'momentum': 0.4}\n",
            "0.649740 (0.026557) with: {'learn_rate': 0.01, 'momentum': 0.6}\n",
            "0.649740 (0.026557) with: {'learn_rate': 0.01, 'momentum': 0.8}\n",
            "0.651042 (0.024774) with: {'learn_rate': 0.01, 'momentum': 0.9}\n",
            "0.651042 (0.024774) with: {'learn_rate': 0.1, 'momentum': 0.0}\n",
            "0.651042 (0.024774) with: {'learn_rate': 0.1, 'momentum': 0.2}\n",
            "0.651042 (0.024774) with: {'learn_rate': 0.1, 'momentum': 0.4}\n",
            "0.651042 (0.024774) with: {'learn_rate': 0.1, 'momentum': 0.6}\n",
            "0.651042 (0.024774) with: {'learn_rate': 0.1, 'momentum': 0.8}\n",
            "0.651042 (0.024774) with: {'learn_rate': 0.1, 'momentum': 0.9}\n",
            "0.651042 (0.024774) with: {'learn_rate': 0.2, 'momentum': 0.0}\n",
            "0.649740 (0.026557) with: {'learn_rate': 0.2, 'momentum': 0.2}\n",
            "0.651042 (0.024774) with: {'learn_rate': 0.2, 'momentum': 0.4}\n",
            "0.651042 (0.024774) with: {'learn_rate': 0.2, 'momentum': 0.6}\n",
            "0.651042 (0.024774) with: {'learn_rate': 0.2, 'momentum': 0.8}\n",
            "0.572917 (0.134575) with: {'learn_rate': 0.2, 'momentum': 0.9}\n",
            "0.651042 (0.024774) with: {'learn_rate': 0.3, 'momentum': 0.0}\n",
            "0.651042 (0.024774) with: {'learn_rate': 0.3, 'momentum': 0.2}\n",
            "0.651042 (0.024774) with: {'learn_rate': 0.3, 'momentum': 0.4}\n",
            "0.651042 (0.024774) with: {'learn_rate': 0.3, 'momentum': 0.6}\n",
            "0.651042 (0.024774) with: {'learn_rate': 0.3, 'momentum': 0.8}\n",
            "0.544271 (0.146518) with: {'learn_rate': 0.3, 'momentum': 0.9}\n"
          ],
          "name": "stdout"
        }
      ]
    },
    {
      "cell_type": "code",
      "metadata": {
        "id": "cljHZ3vCrIsj",
        "colab": {
          "base_uri": "https://localhost:8080/"
        },
        "outputId": "81cc0beb-560b-4640-b9ac-6edd1fb41c9d"
      },
      "source": [
        "# Use scikit-learn to grid search the learning rate and momentum\n",
        "import numpy\n",
        "from sklearn.model_selection import GridSearchCV\n",
        "from keras.models import Sequential\n",
        "from keras.layers import Dense\n",
        "from keras.wrappers.scikit_learn import KerasClassifier\n",
        "from keras.optimizers import SGD\n",
        "import time\n",
        "# Function to create model, required for KerasClassifier\n",
        "def create_model(learn_rate=0.01, momentum=0):\n",
        "\t# create model\n",
        "\tmodelx = Sequential()\n",
        "\tmodelx.add(Dense(12, input_dim=8, activation='relu'))\n",
        "\tmodelx.add(Dense(1, activation='sigmoid'))\n",
        "\t# Compile model\n",
        "\toptimizer = SGD(lr=learn_rate, momentum=momentum)\n",
        "\tmodelx.compile(loss='binary_crossentropy', optimizer=optimizer, metrics=['accuracy'])\n",
        "\treturn modelx\n",
        "# fix random seed for reproducibility\n",
        "seed = 7\n",
        "numpy.random.seed(seed)\n",
        "# load dataset\n",
        "dataset = numpy.loadtxt(\"pima-indians-diabetes.csv\", delimiter=\",\")\n",
        "# split into input (X) and output (Y) variables\n",
        "X = dataset[:,0:8]\n",
        "Y = dataset[:,8]\n",
        "# create model\n",
        "modelx = KerasClassifier(build_fn=create_model, epochs=100, batch_size=10, verbose=0)\n",
        "# define the grid search parameters\n",
        "# learn_rate와 momentum 두 개의 하이퍼파라미터의 그리드를 코드로 정의하십시오. \n",
        "# learn_rate는 0.001, 0.01. 0.1, 0.2, 0.3로 하고 momentum은 0.0, 0.2, 0.4, 0.6, 0.8, 0.9로 하십시오.\n",
        "learn_rate = (0.001)\n",
        "momentum = (0.2)\n",
        "param_grid =dict(batch_size=batch_size, epochs=epochs)\n",
        "grid = GridSearchCV(estimator=modelx, param_grid=param_grid, n_jobs=-1, cv=3)\n",
        "# 트레이닝 시작\n",
        "start = time.time()\n",
        "print(\"트레이닝 시작\")\n",
        "grid_result = grid.fit(X, Y)\n",
        "end = time.time()\n",
        "print(end - start, ' 초 결렸습니다') \n",
        "\n",
        "# summarize results\n",
        "print(\"Best: %f using %s\" % (grid_result.best_score_, grid_result.best_params_))\n",
        "means = grid_result.cv_results_['mean_test_score']\n",
        "stds = grid_result.cv_results_['std_test_score']\n",
        "params = grid_result.cv_results_['params']\n",
        "for mean, stdev, param in zip(means, stds, params):\n",
        "    print(\"%f (%f) with: %r\" % (mean, stdev, param))"
      ],
      "execution_count": 10,
      "outputs": [
        {
          "output_type": "stream",
          "text": [
            "트레이닝 시작\n"
          ],
          "name": "stdout"
        },
        {
          "output_type": "stream",
          "text": [
            "/usr/local/lib/python3.7/dist-packages/tensorflow/python/keras/optimizer_v2/optimizer_v2.py:375: UserWarning: The `lr` argument is deprecated, use `learning_rate` instead.\n",
            "  \"The `lr` argument is deprecated, use `learning_rate` instead.\")\n"
          ],
          "name": "stderr"
        },
        {
          "output_type": "stream",
          "text": [
            "81.73087167739868  초 결렸습니다\n",
            "Best: 0.678385 using {'batch_size': 80, 'epochs': 50}\n",
            "0.654948 (0.029635) with: {'batch_size': 10, 'epochs': 10}\n",
            "0.657552 (0.031948) with: {'batch_size': 10, 'epochs': 50}\n",
            "0.648438 (0.019401) with: {'batch_size': 10, 'epochs': 100}\n",
            "0.669271 (0.018136) with: {'batch_size': 20, 'epochs': 10}\n",
            "0.674479 (0.011201) with: {'batch_size': 20, 'epochs': 50}\n",
            "0.671875 (0.019401) with: {'batch_size': 20, 'epochs': 100}\n",
            "0.654948 (0.008027) with: {'batch_size': 40, 'epochs': 10}\n",
            "0.651042 (0.047877) with: {'batch_size': 40, 'epochs': 50}\n",
            "0.657552 (0.017566) with: {'batch_size': 40, 'epochs': 100}\n",
            "0.648438 (0.019918) with: {'batch_size': 60, 'epochs': 10}\n",
            "0.636719 (0.044194) with: {'batch_size': 60, 'epochs': 50}\n",
            "0.653646 (0.034104) with: {'batch_size': 60, 'epochs': 100}\n",
            "0.635417 (0.018688) with: {'batch_size': 80, 'epochs': 10}\n",
            "0.678385 (0.011201) with: {'batch_size': 80, 'epochs': 50}\n",
            "0.665365 (0.023510) with: {'batch_size': 80, 'epochs': 100}\n",
            "0.639323 (0.016053) with: {'batch_size': 100, 'epochs': 10}\n",
            "0.649740 (0.018688) with: {'batch_size': 100, 'epochs': 50}\n",
            "0.675781 (0.016573) with: {'batch_size': 100, 'epochs': 100}\n"
          ],
          "name": "stdout"
        }
      ]
    },
    {
      "cell_type": "code",
      "metadata": {
        "id": "9rX5K2DR1ai5",
        "colab": {
          "base_uri": "https://localhost:8080/",
          "height": 169
        },
        "outputId": "d455af11-4d47-4b5e-b0f3-5217ef664381"
      },
      "source": [
        "layer = tf.keras.layers.Dropout(rate=0.2, input_shape=(2,))"
      ],
      "execution_count": 11,
      "outputs": [
        {
          "output_type": "error",
          "ename": "NameError",
          "evalue": "ignored",
          "traceback": [
            "\u001b[0;31m---------------------------------------------------------------------------\u001b[0m",
            "\u001b[0;31mNameError\u001b[0m                                 Traceback (most recent call last)",
            "\u001b[0;32m<ipython-input-11-7f2d733a8c64>\u001b[0m in \u001b[0;36m<module>\u001b[0;34m()\u001b[0m\n\u001b[0;32m----> 1\u001b[0;31m \u001b[0mlayer\u001b[0m \u001b[0;34m=\u001b[0m \u001b[0mtf\u001b[0m\u001b[0;34m.\u001b[0m\u001b[0mkeras\u001b[0m\u001b[0;34m.\u001b[0m\u001b[0mlayers\u001b[0m\u001b[0;34m.\u001b[0m\u001b[0mDropout\u001b[0m\u001b[0;34m(\u001b[0m\u001b[0mrate\u001b[0m\u001b[0;34m=\u001b[0m\u001b[0;36m0.2\u001b[0m\u001b[0;34m,\u001b[0m \u001b[0minput_shape\u001b[0m\u001b[0;34m=\u001b[0m\u001b[0;34m(\u001b[0m\u001b[0;36m2\u001b[0m\u001b[0;34m,\u001b[0m\u001b[0;34m)\u001b[0m\u001b[0;34m)\u001b[0m\u001b[0;34m\u001b[0m\u001b[0;34m\u001b[0m\u001b[0m\n\u001b[0m",
            "\u001b[0;31mNameError\u001b[0m: name 'tf' is not defined"
          ]
        }
      ]
    },
    {
      "cell_type": "code",
      "metadata": {
        "id": "47-MCbIn2UHc"
      },
      "source": [
        "layer = tf.keras.layers.LeakyReLU(alpha=0.1)"
      ],
      "execution_count": null,
      "outputs": []
    }
  ]
}